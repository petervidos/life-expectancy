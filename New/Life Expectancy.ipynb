{
 "cells": [
  {
   "cell_type": "code",
   "execution_count": 1,
   "id": "65796f2a-4b3e-47c4-a567-df439da110c3",
   "metadata": {},
   "outputs": [],
   "source": [
    "# Import components, add data to pandas data frame\n",
    "import pandas as pd\n",
    "import numpy as np \n",
    "from pandasgui import show\n",
    "from ipyvizzu import Data, Config, Style\n",
    "from ipyvizzustory import Story, Slide, Step\n",
    "import warnings\n",
    "warnings.simplefilter(action='ignore', category=FutureWarning)"
   ]
  },
  {
   "cell_type": "code",
   "execution_count": 2,
   "id": "631b3639-0dcb-4cfd-b151-eddb01e84852",
   "metadata": {},
   "outputs": [],
   "source": [
    "# Define common columns to load\n",
    "columns_to_load = [\"LocTypeID\", \"Sex\", \"Location\", \"AgeGrpStart\", \"Time\", \"ex\"]\n",
    "\n",
    "# Read and filter Male dataset (1950-2023)\n",
    "df_male = pd.read_csv(\"WPP2024_Life_Table_Complete_Medium_Male_1950-2023.csv\", usecols=columns_to_load, low_memory=False)\n",
    "df_male_filtered = df_male[df_male[\"LocTypeID\"] == 4].drop(columns=[\"LocTypeID\"])\n",
    "\n",
    "# Read and filter Female dataset (1950-2023)\n",
    "df_female = pd.read_csv(\"WPP2024_Life_Table_Complete_Medium_Female_1950-2023.csv\", usecols=columns_to_load, low_memory=False)\n",
    "df_female_filtered = df_female[df_female[\"LocTypeID\"] == 4].drop(columns=[\"LocTypeID\"])\n",
    "\n",
    "# Combine both datasets (1950-2023)\n",
    "df_combined = pd.concat([df_male_filtered, df_female_filtered], ignore_index=True)\n",
    "\n",
    "# Read and filter Male dataset (2024-2100) **only for 2024 and 2025**\n",
    "df_male_future = pd.read_csv(\"WPP2024_Life_Table_Complete_Medium_Male_2024-2100.csv\", usecols=columns_to_load, low_memory=False)\n",
    "df_male_future_filtered = df_male_future[(df_male_future[\"LocTypeID\"] == 4) & (df_male_future[\"Time\"].isin([2024, 2025]))].drop(columns=[\"LocTypeID\"])\n",
    "\n",
    "# Read and filter Female dataset (2024-2100) **only for 2024 and 2025**\n",
    "df_female_future = pd.read_csv(\"WPP2024_Life_Table_Complete_Medium_Female_2024-2100.csv\", usecols=columns_to_load, low_memory=False)\n",
    "df_female_future_filtered = df_female_future[(df_female_future[\"LocTypeID\"] == 4) & (df_female_future[\"Time\"].isin([2024, 2025]))].drop(columns=[\"LocTypeID\"])\n",
    "\n",
    "# Append 2024-2025 data to df_combined\n",
    "df_combined = pd.concat([df_combined, df_male_future_filtered, df_female_future_filtered], ignore_index=True)\n"
   ]
  },
  {
   "cell_type": "code",
   "execution_count": 3,
   "id": "00401af1-07c8-4f51-a13a-751eac489fb3",
   "metadata": {},
   "outputs": [],
   "source": [
    "#show(df_combined)"
   ]
  },
  {
   "cell_type": "code",
   "execution_count": 4,
   "id": "4a98ab54-2a33-42b8-9bbe-510b9133f8fe",
   "metadata": {},
   "outputs": [
    {
     "name": "stdout",
     "output_type": "stream",
     "text": [
      "Location        object\n",
      "Time             int64\n",
      "Sex             object\n",
      "AgeGrpStart      int64\n",
      "ex             float64\n",
      "dtype: object\n"
     ]
    }
   ],
   "source": [
    "print(df_combined.dtypes)\n"
   ]
  },
  {
   "cell_type": "code",
   "execution_count": 5,
   "id": "28337d13-b4cd-44d3-8cb0-e5b821c3c459",
   "metadata": {},
   "outputs": [],
   "source": [
    "# Copy the combined dataset\n",
    "df_wide = df_combined.copy()\n",
    "\n",
    "# Calculate BirthYear BEFORE melting\n",
    "df_wide[\"BirthYear\"] = df_wide[\"Time\"] - df_wide[\"AgeGrpStart\"]\n",
    "\n",
    "# Calculate total (Age + Remaining Years)\n",
    "df_wide[\"Total\"] = df_wide[\"AgeGrpStart\"] + df_wide[\"ex\"]\n",
    "\n",
    "# Calculate percentages BEFORE melting\n",
    "df_wide[\"Age_Percentage\"] = (df_wide[\"AgeGrpStart\"] / df_wide[\"Total\"]) * 100\n",
    "df_wide[\"Remaining_Years_Percentage\"] = (df_wide[\"ex\"] / df_wide[\"Total\"]) * 100\n",
    "\n",
    "# **Ensure the percentages add up to 100%**\n",
    "df_wide[\"Age_Percentage\"] = df_wide[\"Age_Percentage\"].round(2)\n",
    "df_wide[\"Remaining_Years_Percentage\"] = (100 - df_wide[\"Age_Percentage\"]).round(2)\n",
    "\n",
    "# Melt the DataFrame to long format (excluding percentage values)\n",
    "df_vizzu = df_wide.melt(\n",
    "    id_vars=[\"Sex\", \"Location\", \"Time\", \"BirthYear\"],  # Keep BirthYear\n",
    "    value_vars=[\"AgeGrpStart\", \"ex\"],  # Melt Age and Remaining Years\n",
    "    var_name=\"Category\",\n",
    "    value_name=\"Value\"\n",
    ")\n",
    "\n",
    "# Replace category names\n",
    "df_vizzu[\"Category\"] = df_vizzu[\"Category\"].replace({\n",
    "    \"AgeGrpStart\": \"Age\", \n",
    "    \"ex\": \"Remaining Years\"\n",
    "})\n",
    "\n",
    "# Create a lookup table for percentages BEFORE melting\n",
    "percentage_lookup = df_wide.melt(\n",
    "    id_vars=[\"Sex\", \"Location\", \"Time\", \"BirthYear\"],  # Keep BirthYear\n",
    "    value_vars=[\"Age_Percentage\", \"Remaining_Years_Percentage\"],\n",
    "    var_name=\"Category\",\n",
    "    value_name=\"Percentage\"\n",
    ")\n",
    "\n",
    "# Replace percentage category names\n",
    "percentage_lookup[\"Category\"] = percentage_lookup[\"Category\"].replace({\n",
    "    \"Age_Percentage\": \"Age\",\n",
    "    \"Remaining_Years_Percentage\": \"Remaining Years\"\n",
    "})\n",
    "\n",
    "# Merge the precomputed percentages into `df_vizzu`\n",
    "df_vizzu = df_vizzu.merge(percentage_lookup, on=[\"Sex\", \"Location\", \"Time\", \"BirthYear\", \"Category\"], how=\"left\")\n",
    "\n",
    "# Format Percentage column correctly\n",
    "df_vizzu[\"Percentage\"] = df_vizzu[\"Percentage\"].apply(lambda x: f\"{x:.2f}%\" if pd.notna(x) else None)\n"
   ]
  },
  {
   "cell_type": "code",
   "execution_count": 6,
   "id": "063d7df7-b636-4aed-bf76-d8b600e47d73",
   "metadata": {},
   "outputs": [
    {
     "name": "stderr",
     "output_type": "stream",
     "text": [
      "PandasGUI INFO — pandasgui.gui — Opening PandasGUI\n"
     ]
    },
    {
     "data": {
      "text/plain": [
       "<pandasgui.gui.PandasGui at 0x1cf6b120040>"
      ]
     },
     "execution_count": 6,
     "metadata": {},
     "output_type": "execute_result"
    }
   ],
   "source": [
    "show(df_vizzu)"
   ]
  },
  {
   "cell_type": "code",
   "execution_count": 7,
   "id": "3850c229-10ec-43cb-af1a-38656811e425",
   "metadata": {},
   "outputs": [],
   "source": [
    "df_vizzu.to_csv(\"life_expectancy.csv\", index=False)"
   ]
  },
  {
   "cell_type": "code",
   "execution_count": 8,
   "id": "9af0498f-71fe-4e6a-b89c-a40fb97eb1a5",
   "metadata": {},
   "outputs": [],
   "source": [
    "# Define filtering parameters\n",
    "target_country = \"Hungary\"\n",
    "target_birth_year = 1981\n",
    "\n",
    "# Apply filtering conditions\n",
    "df_filtered = df_vizzu[\n",
    "    ((df_vizzu[\"BirthYear\"] == target_birth_year) & \n",
    "     (df_vizzu[\"Location\"] == target_country)) \n",
    "    |\n",
    "    ((df_vizzu[\"BirthYear\"] == target_birth_year) & \n",
    "     (df_vizzu[\"Category\"] == \"Remaining Years\") & \n",
    "     (df_vizzu[\"Time\"] == target_birth_year))\n",
    "]\n",
    "\n",
    "df_filtered = df_filtered.sort_values(by=[\"Sex\", \"Location\", \"Time\"]).reset_index(drop=True)\n",
    "\n",
    "# Save the filtered dataset\n",
    "df_filtered.to_csv(\"filtered_data.csv\", index=False)\n"
   ]
  },
  {
   "cell_type": "code",
   "execution_count": 9,
   "id": "53613a20-25d1-4314-ad80-a8e36ef40a4a",
   "metadata": {},
   "outputs": [
    {
     "name": "stderr",
     "output_type": "stream",
     "text": [
      "PandasGUI INFO — pandasgui.gui — Opening PandasGUI\n"
     ]
    },
    {
     "data": {
      "text/plain": [
       "<pandasgui.gui.PandasGui at 0x1cf32613be0>"
      ]
     },
     "execution_count": 9,
     "metadata": {},
     "output_type": "execute_result"
    }
   ],
   "source": [
    "show(df_filtered)"
   ]
  }
 ],
 "metadata": {
  "kernelspec": {
   "display_name": "Python 3 (ipykernel)",
   "language": "python",
   "name": "python3"
  },
  "language_info": {
   "codemirror_mode": {
    "name": "ipython",
    "version": 3
   },
   "file_extension": ".py",
   "mimetype": "text/x-python",
   "name": "python",
   "nbconvert_exporter": "python",
   "pygments_lexer": "ipython3",
   "version": "3.11.5"
  }
 },
 "nbformat": 4,
 "nbformat_minor": 5
}
